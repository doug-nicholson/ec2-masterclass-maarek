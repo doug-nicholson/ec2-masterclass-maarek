{
 "cells": [
  {
   "cell_type": "code",
   "execution_count": null,
   "source": [
    "# get clients and resources\n",
    "import boto3\n",
    "ec2 = boto3.resource('ec2')\n",
    "elbv2 = boto3.client('elbv2')\n",
    "route53 = boto3.client('route53')"
   ],
   "outputs": [],
   "metadata": {}
  },
  {
   "cell_type": "code",
   "execution_count": null,
   "source": [
    "# Create the security group for the load balancer\n",
    "balancer_security_group_name = 'balancer-security-group'\n",
    "balancer_security_group = ec2.create_security_group(\n",
    "    GroupName=balancer_security_group_name,\n",
    "    Description='Security group for the load balancer'\n",
    ")\n",
    "response = balancer_security_group.authorize_ingress(\n",
    "    IpPermissions=[\n",
    "        {\n",
    "            'FromPort': 80,\n",
    "            'ToPort': 80,\n",
    "            'IpProtocol': 'tcp',\n",
    "            'IpRanges': [{'CidrIp': '0.0.0.0/0'}]\n",
    "        }\n",
    "    ]\n",
    ")\n",
    "print('balancer security group created')"
   ],
   "outputs": [],
   "metadata": {}
  },
  {
   "cell_type": "code",
   "execution_count": null,
   "source": [
    "# Create the security group for the instances\n",
    "instances_security_group_name = 'instances-security-group'\n",
    "instances_security_group = ec2.create_security_group(\n",
    "    GroupName=instances_security_group_name,\n",
    "    Description='Security group for the instances'\n",
    ")\n",
    "response = instances_security_group.authorize_ingress(\n",
    "    IpPermissions=[\n",
    "        {\n",
    "            'FromPort': 4567,\n",
    "            'ToPort': 4567,\n",
    "            'IpProtocol': 'tcp',\n",
    "            'UserIdGroupPairs': [\n",
    "                {\n",
    "                    'GroupId': balancer_security_group.group_id,\n",
    "                    'UserId': balancer_security_group.owner_id\n",
    "                }\n",
    "            ]\n",
    "        }\n",
    "    ]\n",
    ")\n",
    "print('instances security group created')"
   ],
   "outputs": [],
   "metadata": {}
  },
  {
   "cell_type": "code",
   "execution_count": null,
   "source": [
    "# Create the target group for the application load balancer\n",
    "response = elbv2.create_target_group(\n",
    "    Name='alb-target-group',\n",
    "    Protocol='HTTP',\n",
    "    Port=4567,\n",
    "    VpcId=balancer_security_group.vpc_id,\n",
    "    HealthCheckProtocol='HTTP',\n",
    "    HealthCheckPort='4567',\n",
    "    HealthCheckPath='/health',\n",
    "    HealthCheckIntervalSeconds=10,\n",
    "    HealthCheckTimeoutSeconds=5,\n",
    "    HealthyThresholdCount=5,\n",
    "    UnhealthyThresholdCount=2,\n",
    "    TargetType='instance'\n",
    ")\n",
    "target_group_arn = response['TargetGroups'][0]['TargetGroupArn']\n",
    "print('target group created')"
   ],
   "outputs": [],
   "metadata": {}
  },
  {
   "cell_type": "code",
   "execution_count": null,
   "source": [
    "# We need to get the id of the image we are going to use.\n",
    "# We will assume that it already exists\n",
    "image_iterator = ec2.images.filter(\n",
    "    Filters=[\n",
    "        {\n",
    "            'Name': 'name',\n",
    "            'Values': [\n",
    "                'java-application-ami'\n",
    "            ]\n",
    "        }\n",
    "    ]\n",
    ")\n",
    "image = list(image_iterator)[0]\n",
    "print('AMI found')"
   ],
   "outputs": [],
   "metadata": {}
  },
  {
   "cell_type": "code",
   "execution_count": null,
   "source": [
    "#  Launch the instances\n",
    "instance_count = 2\n",
    "instances = ec2.create_instances(\n",
    "    ImageId=image.image_id,\n",
    "    InstanceType='t2.micro',\n",
    "    MaxCount=instance_count,\n",
    "    MinCount=instance_count,\n",
    "    SecurityGroups=[\n",
    "        instances_security_group_name\n",
    "    ]\n",
    ")\n",
    "print('instances launched')"
   ],
   "outputs": [],
   "metadata": {}
  },
  {
   "cell_type": "code",
   "execution_count": null,
   "source": [
    "# Add name tags to the instances and create a list of instance ids\n",
    "# to register the instances with the load balancer.\n",
    "instance_name = 'java-application'\n",
    "targets = []\n",
    "for instance, instance_number in zip(instances, range(instance_count)):\n",
    "\n",
    "    # Wait for instance to start and reload attributes.\n",
    "    instance.wait_until_running()\n",
    "    instance.reload()\n",
    "\n",
    "    # Add name tag to the instance\n",
    "    instance.create_tags(\n",
    "        Tags=[\n",
    "            {\n",
    "                'Key': 'Name',\n",
    "                'Value': instance_name + '-' + str(instance_number)\n",
    "            }\n",
    "        ]\n",
    "    )\n",
    "\n",
    "    # Add the instance id to the instance id list\n",
    "    targets.append(\n",
    "        {\n",
    "            'Id': instance.instance_id,\n",
    "            'Port': 4567\n",
    "        }\n",
    "    )\n",
    "print('instances running')\n"
   ],
   "outputs": [],
   "metadata": {}
  },
  {
   "cell_type": "code",
   "execution_count": null,
   "source": [
    "response = elbv2.register_targets(\n",
    "    TargetGroupArn=target_group_arn,\n",
    "    Targets=targets\n",
    ")\n",
    "print('targets registered')"
   ],
   "outputs": [],
   "metadata": {}
  },
  {
   "cell_type": "code",
   "execution_count": null,
   "source": [
    "# Create a list of subnet ids for the load balancer\n",
    "subnet_iterator = ec2.subnets.filter(\n",
    "    Filters=[\n",
    "        {\n",
    "            'Name': 'vpc-id',\n",
    "            'Values': [\n",
    "                balancer_security_group.vpc_id\n",
    "            ]\n",
    "        }\n",
    "    ]\n",
    ")\n",
    "subnet_ids = [subnet.subnet_id for subnet in subnet_iterator]"
   ],
   "outputs": [],
   "metadata": {}
  },
  {
   "cell_type": "code",
   "execution_count": null,
   "source": [
    "# Create the classic load balancer\n",
    "load_balancer_name = 'application-load-balancer'\n",
    "response = elbv2.create_load_balancer(\n",
    "    Name=load_balancer_name,\n",
    "    Subnets=subnet_ids,\n",
    "    SecurityGroups=[\n",
    "        balancer_security_group.group_id\n",
    "    ]\n",
    ")\n",
    "load_balancer_arn = response['LoadBalancers'][0]['LoadBalancerArn']\n",
    "print('load balancer created')"
   ],
   "outputs": [],
   "metadata": {}
  },
  {
   "cell_type": "code",
   "execution_count": null,
   "source": [
    "# Create a listener\n",
    "response = elbv2.create_listener(\n",
    "    LoadBalancerArn=load_balancer_arn,\n",
    "    Protocol='HTTP',\n",
    "    Port=80,\n",
    "    DefaultActions=[\n",
    "        {\n",
    "            'Type': 'forward',\n",
    "            'TargetGroupArn': target_group_arn\n",
    "        }\n",
    "    ]\n",
    ")\n",
    "print('listener created')"
   ],
   "outputs": [],
   "metadata": {}
  },
  {
   "cell_type": "code",
   "execution_count": null,
   "source": [
    "# Get the dns name and zone id for the load balancer\n",
    "response = elbv2.describe_load_balancers(\n",
    "    Names=[\n",
    "        load_balancer_name\n",
    "    ]\n",
    ")\n",
    "load_balancer_description = response['LoadBalancers'][0]\n",
    "balancer_dns_name = load_balancer_description['DNSName']\n",
    "balancer_zone_id = load_balancer_description['CanonicalHostedZoneId']"
   ],
   "outputs": [],
   "metadata": {}
  },
  {
   "cell_type": "code",
   "execution_count": null,
   "source": [
    "# add the public ip address to route53 so SSH is easier\n",
    "response = route53.list_hosted_zones_by_name(\n",
    "    DNSName='doug-nicholson.net'\n",
    ")\n",
    "zone_id = response['HostedZones'][0]['Id'][12:]\n",
    "response = route53.change_resource_record_sets(\n",
    "    HostedZoneId=zone_id,\n",
    "    ChangeBatch={\n",
    "        'Changes': [\n",
    "            {\n",
    "                'Action': 'CREATE',\n",
    "                'ResourceRecordSet': {\n",
    "                    'Name': 'alb.doug-nicholson.net',\n",
    "                    'Type': 'A',\n",
    "                    'AliasTarget': {\n",
    "                        'HostedZoneId': balancer_zone_id,\n",
    "                        'DNSName': balancer_dns_name,\n",
    "                        'EvaluateTargetHealth': False\n",
    "                    }\n",
    "                }\n",
    "            }\n",
    "        ]\n",
    "    }\n",
    ")\n",
    "\n",
    "# it seems like waiting will be the right thing to do\n",
    "route53_waiter = route53.get_waiter('resource_record_sets_changed')\n",
    "route53_waiter.wait(\n",
    "    Id=response['ChangeInfo']['Id'][8:]\n",
    ")\n",
    "print('record for alb.doug-nicholson.net created')"
   ],
   "outputs": [],
   "metadata": {}
  },
  {
   "cell_type": "code",
   "execution_count": null,
   "source": [
    "# Success!\n",
    "print('launch application load balancer script completed')"
   ],
   "outputs": [],
   "metadata": {}
  }
 ],
 "metadata": {
  "orig_nbformat": 4,
  "language_info": {
   "name": "python",
   "version": "3.9.7",
   "mimetype": "text/x-python",
   "codemirror_mode": {
    "name": "ipython",
    "version": 3
   },
   "pygments_lexer": "ipython3",
   "nbconvert_exporter": "python",
   "file_extension": ".py"
  },
  "kernelspec": {
   "name": "python3",
   "display_name": "Python 3.9.7 64-bit"
  },
  "interpreter": {
   "hash": "aee8b7b246df8f9039afb4144a1f6fd8d2ca17a180786b69acc140d282b71a49"
  }
 },
 "nbformat": 4,
 "nbformat_minor": 2
}