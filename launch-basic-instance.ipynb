{
 "cells": [
  {
   "cell_type": "code",
   "execution_count": 1,
   "source": [
    "import boto3, os"
   ],
   "outputs": [],
   "metadata": {}
  },
  {
   "cell_type": "code",
   "execution_count": 2,
   "source": [
    "ec2 = boto3.resource('ec2')"
   ],
   "outputs": [],
   "metadata": {}
  },
  {
   "cell_type": "code",
   "execution_count": 3,
   "source": [
    "# We will use the general SSH security group.\n",
    "# Determine if it already exists.\n",
    "security_group_name = 'SSH-security-group'\n",
    "security_group_iterator = ec2.security_groups.filter(\n",
    "    GroupNames=[\n",
    "        security_group_name\n",
    "    ]\n",
    ")\n",
    "try:\n",
    "    # If this causes an exception, create the security group\n",
    "    list(security_group_iterator)\n",
    "except:\n",
    "    security_group = ec2.create_security_group(\n",
    "        GroupName=security_group_name,\n",
    "        Description='Security group to SSH into instances'\n",
    "    )\n",
    "    response = security_group.authorize_ingress(\n",
    "        IpPermissions=[\n",
    "            {'FromPort': 22,\n",
    "            'ToPort': 22,\n",
    "            'IpProtocol': 'tcp',\n",
    "            'IpRanges': [{'CidrIp': '0.0.0.0/0'}]\n",
    "            }\n",
    "        ]\n",
    "    )"
   ],
   "outputs": [],
   "metadata": {}
  },
  {
   "cell_type": "code",
   "execution_count": 4,
   "source": [
    "# We need a key pair to SSH into the instance\n",
    "# Determine if it already exists\n",
    "key_pair_name = 'basic-launch-key-pair'\n",
    "key_pair_info_iterator = ec2.key_pairs.filter(\n",
    "    KeyNames=[\n",
    "        key_pair_name\n",
    "    ]\n",
    ")\n",
    "try:\n",
    "    # If this causes an exception, create the key pair\n",
    "    list(key_pair_info_iterator)\n",
    "except:\n",
    "    key_pair = ec2.create_key_pair(\n",
    "        KeyName=key_pair_name\n",
    "    )\n",
    "    key_pair_file_name = '/Users/dougjam/.ssh/' + key_pair_name + '.pem'\n",
    "    with open(key_pair_file_name, 'w') as f:\n",
    "        f.write(key_pair.key_material)\n",
    "        f.close()\n",
    "    os.chmod(key_pair_file_name, 0o600)"
   ],
   "outputs": [],
   "metadata": {}
  },
  {
   "cell_type": "code",
   "execution_count": 5,
   "source": [
    "# create the basic instance\n",
    "instances = ec2.create_instances(\n",
    "    ImageId='ami-00dfe2c7ce89a450b',\n",
    "    InstanceType='t2.micro',\n",
    "    KeyName=key_pair_name,\n",
    "    MaxCount=1,\n",
    "    MinCount=1,\n",
    "    SecurityGroups=[\n",
    "        security_group_name\n",
    "    ]\n",
    ")\n",
    "instance = instances[0]\n",
    "instance.wait_until_running()\n",
    "instance.reload()"
   ],
   "outputs": [],
   "metadata": {}
  },
  {
   "cell_type": "code",
   "execution_count": 6,
   "source": [
    "# add the public ip address to route53 so SSH is easier\n",
    "route53 = boto3.client('route53')\n",
    "\n",
    "# it seems like waiting will be the right thing to do\n",
    "route53_waiter = route53.get_waiter('resource_record_sets_changed')\n",
    "response = route53.list_hosted_zones_by_name(\n",
    "    DNSName='doug-nicholson.net'\n",
    ")\n",
    "zone_id = response['HostedZones'][0]['Id'][12:]\n",
    "response = route53.change_resource_record_sets(\n",
    "    HostedZoneId=zone_id,\n",
    "    ChangeBatch={\n",
    "        'Changes': [\n",
    "            {\n",
    "                'Action': 'CREATE',\n",
    "                'ResourceRecordSet': {\n",
    "                    'Name': 'basic.doug-nicholson.net',\n",
    "                    'Type': 'A',\n",
    "                    'TTL': 300,\n",
    "                    'ResourceRecords': [\n",
    "                        {\n",
    "                            'Value': instance.public_ip_address\n",
    "                        },\n",
    "                    ],\n",
    "                }\n",
    "            }\n",
    "        ]\n",
    "    }\n",
    ")\n",
    "route53_waiter.wait(\n",
    "    Id=response['ChangeInfo']['Id'][8:]\n",
    ")"
   ],
   "outputs": [],
   "metadata": {}
  }
 ],
 "metadata": {
  "orig_nbformat": 4,
  "language_info": {
   "name": "python",
   "version": "3.9.6",
   "mimetype": "text/x-python",
   "codemirror_mode": {
    "name": "ipython",
    "version": 3
   },
   "pygments_lexer": "ipython3",
   "nbconvert_exporter": "python",
   "file_extension": ".py"
  },
  "kernelspec": {
   "name": "python3",
   "display_name": "Python 3.9.6 64-bit"
  },
  "interpreter": {
   "hash": "aee8b7b246df8f9039afb4144a1f6fd8d2ca17a180786b69acc140d282b71a49"
  }
 },
 "nbformat": 4,
 "nbformat_minor": 2
}