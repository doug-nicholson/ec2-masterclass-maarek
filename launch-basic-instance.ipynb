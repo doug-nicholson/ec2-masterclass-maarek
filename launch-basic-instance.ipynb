{
 "cells": [
  {
   "cell_type": "code",
   "execution_count": null,
   "metadata": {},
   "outputs": [],
   "source": [
    "import boto3, os"
   ]
  },
  {
   "cell_type": "code",
   "execution_count": null,
   "metadata": {},
   "outputs": [],
   "source": [
    "ec2 = boto3.resource('ec2')\n",
    "ssm = boto3.client('ssm')\n",
    "route53 = boto3.client('route53')"
   ]
  },
  {
   "cell_type": "code",
   "execution_count": null,
   "metadata": {},
   "outputs": [],
   "source": [
    "default_ip_security_group_name = 'default-using-my-ip'\n",
    "security_group_name = 'master-class-security-group'\n",
    "security_group_description = 'security group for ec2 masterclass'\n",
    "\n",
    "ssh_directory_name = '/Users/dougjam/.ssh'\n",
    "key_pair_name = 'master-class-key-pair'\n",
    "private_key_file_name = f'{ssh_directory_name}/{key_pair_name}_rsa'\n",
    "public_key_file_name = f'{private_key_file_name}.pub'\n",
    "ssh_config_file_name = f'{ssh_directory_name}/config'\n",
    "ssh_known_hosts_file_name = f'{ssh_directory_name}/known_hosts'\n",
    "\n",
    "domain_name = 'doug-nicholson.net'\n",
    "subdomain_name = 'master-class'\n",
    "full_host_name = f'{subdomain_name}.{domain_name}'\n",
    "\n",
    "parameter_path = '/aws/service/ami-amazon-linux-latest/'\n",
    "parameter_name = 'amzn2-ami-hvm-x86_64-gp2'"
   ]
  },
  {
   "cell_type": "code",
   "execution_count": null,
   "metadata": {},
   "outputs": [],
   "source": [
    "# In the interests of security, there is a security group with\n",
    "# my ip address in it.  Get the ip address range out of it for\n",
    "# creating the security group the instance will use.\n",
    "ip_ranges = [{'CidrIp': '0.0.0.0/0'}]\n",
    "security_group_iterator = ec2.security_groups.filter(\n",
    "    Filters=[\n",
    "        {\n",
    "            'Name': 'group-name',\n",
    "            'Values': [\n",
    "                default_ip_security_group_name\n",
    "            ]\n",
    "        }\n",
    "    ]\n",
    ")\n",
    "for security_group in security_group_iterator:\n",
    "    for ip_permission in security_group.ip_permissions:\n",
    "        ip_ranges = ip_permission['IpRanges']"
   ]
  },
  {
   "cell_type": "code",
   "execution_count": null,
   "metadata": {},
   "outputs": [],
   "source": [
    "# Create a new security group for the class.\n",
    "security_group = ec2.create_security_group(\n",
    "    GroupName=security_group_name,\n",
    "    Description=security_group_description\n",
    ")\n",
    "# Add the ingress rules to it.\n",
    "response = security_group.authorize_ingress(\n",
    "    IpPermissions=[\n",
    "        {'FromPort': 22,\n",
    "        'ToPort': 22,\n",
    "        'IpProtocol': 'tcp',\n",
    "        'IpRanges': ip_ranges\n",
    "        }\n",
    "    ]\n",
    ")"
   ]
  },
  {
   "cell_type": "code",
   "execution_count": null,
   "metadata": {},
   "outputs": [],
   "source": [
    "# Remove the host block for the class from the ssh\n",
    "# config file if it is in there.\n",
    "ssh_config_lines = []\n",
    "if os.path.isfile(ssh_config_file_name):\n",
    "    with open(ssh_config_file_name, 'r') as f:\n",
    "        ssh_config_lines = f.readlines();\n",
    "# Add the host block for the class\n",
    "ssh_config_lines.append('\\n')\n",
    "ssh_config_lines.append(f'Host {full_host_name}\\n')\n",
    "ssh_config_lines.append(f'    IdentityFile ~/.ssh/{key_pair_name}_rsa\\n')\n",
    "# Write the lines back to the file.\n",
    "with open(ssh_config_file_name, 'w') as f:\n",
    "    f.writelines(ssh_config_lines)"
   ]
  },
  {
   "cell_type": "code",
   "execution_count": null,
   "metadata": {},
   "outputs": [],
   "source": [
    "# Use ssh-keygen to create the new key files.\n",
    "os.system(f'ssh-keygen -q -N \"\" -f {private_key_file_name}')\n",
    "os.chmod(private_key_file_name, 0o600)\n",
    "os.chmod(public_key_file_name, 0o600)"
   ]
  },
  {
   "cell_type": "code",
   "execution_count": null,
   "metadata": {},
   "outputs": [],
   "source": [
    "# Import the key pair.\n",
    "with open(public_key_file_name, 'r') as f:\n",
    "    public_key_material = f.read()\n",
    "response = ec2.import_key_pair(\n",
    "    KeyName=key_pair_name,\n",
    "    PublicKeyMaterial=public_key_material\n",
    ")"
   ]
  },
  {
   "cell_type": "code",
   "execution_count": null,
   "metadata": {},
   "outputs": [],
   "source": [
    "response = ssm.get_parameters_by_path(\n",
    "    Path=parameter_path)\n",
    "for parameter in response['Parameters']:\n",
    "    if parameter['Name'] == parameter_path + parameter_name:\n",
    "        image_id = parameter['Value']\n",
    "        break"
   ]
  },
  {
   "cell_type": "code",
   "execution_count": null,
   "metadata": {},
   "outputs": [],
   "source": [
    "# create the basic instance\n",
    "instances = ec2.create_instances(\n",
    "    ImageId=image_id,\n",
    "    InstanceType='t2.micro',\n",
    "    KeyName=key_pair_name,\n",
    "    MaxCount=1,\n",
    "    MinCount=1,\n",
    "    SecurityGroups=[\n",
    "        security_group_name\n",
    "    ]\n",
    ")\n",
    "for instance in instances:\n",
    "    instance.wait_until_running()\n",
    "    instance.reload()"
   ]
  },
  {
   "cell_type": "code",
   "execution_count": null,
   "metadata": {},
   "outputs": [],
   "source": [
    "# add the public ip address to route53 so SSH is easier\n",
    "route53_waiter = route53.get_waiter('resource_record_sets_changed')\n",
    "response = route53.list_hosted_zones_by_name(\n",
    "    DNSName=domain_name\n",
    ")\n",
    "zone_id = response['HostedZones'][0]['Id'][12:]\n",
    "response = route53.change_resource_record_sets(\n",
    "    HostedZoneId=zone_id,\n",
    "    ChangeBatch={\n",
    "        'Changes': [\n",
    "            {\n",
    "                'Action': 'UPSERT',\n",
    "                'ResourceRecordSet': {\n",
    "                    'Name': full_host_name,\n",
    "                    'Type': 'A',\n",
    "                    'TTL': 60,\n",
    "                    'ResourceRecords': [\n",
    "                        {\n",
    "                            'Value': instance.public_ip_address\n",
    "                        },\n",
    "                    ],\n",
    "                }\n",
    "            }\n",
    "        ]\n",
    "    }\n",
    ")\n",
    "route53_waiter.wait(\n",
    "    Id=response['ChangeInfo']['Id'][8:]\n",
    ")"
   ]
  },
  {
   "cell_type": "code",
   "execution_count": null,
   "metadata": {},
   "outputs": [],
   "source": [
    "print('new instance running')"
   ]
  }
 ],
 "metadata": {
  "interpreter": {
   "hash": "aee8b7b246df8f9039afb4144a1f6fd8d2ca17a180786b69acc140d282b71a49"
  },
  "kernelspec": {
   "display_name": "Python 3.9.6 64-bit",
   "name": "python3"
  },
  "language_info": {
   "codemirror_mode": {
    "name": "ipython",
    "version": 3
   },
   "file_extension": ".py",
   "mimetype": "text/x-python",
   "name": "python",
   "nbconvert_exporter": "python",
   "pygments_lexer": "ipython3",
   "version": "3.9.8"
  },
  "orig_nbformat": 4
 },
 "nbformat": 4,
 "nbformat_minor": 2
}
