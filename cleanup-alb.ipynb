{
 "cells": [
  {
   "cell_type": "code",
   "execution_count": null,
   "source": [
    "import boto3\n",
    "ec2 = boto3.resource('ec2')\n",
    "elbv2 = boto3.client('elbv2')\n",
    "route53 = boto3.client('route53')"
   ],
   "outputs": [],
   "metadata": {}
  },
  {
   "cell_type": "code",
   "execution_count": null,
   "source": [
    "# add the public ip address to route53 so SSH is easier\n",
    "response = route53.list_hosted_zones_by_name(\n",
    "    DNSName='doug-nicholson.net'\n",
    ")\n",
    "local_zone_id = response['HostedZones'][0]['Id'][12:]\n",
    "dns_name='alb.doug-nicholson.net'\n",
    "response = route53.list_resource_record_sets(\n",
    "    HostedZoneId=local_zone_id,\n",
    "    StartRecordName=dns_name,\n",
    "    StartRecordType='A',\n",
    "    MaxItems='1'\n",
    ")\n",
    "for record_set in response['ResourceRecordSets']:\n",
    "    if record_set['Name'] == dns_name + '.':\n",
    "        response = route53.change_resource_record_sets(\n",
    "            HostedZoneId=local_zone_id,\n",
    "            ChangeBatch={\n",
    "                'Changes': [\n",
    "                    {\n",
    "                        'Action': 'DELETE',\n",
    "                        'ResourceRecordSet': record_set\n",
    "                    }\n",
    "                ]\n",
    "            }\n",
    "        )\n",
    "        # it seems like waiting will be the right thing to do\n",
    "        route53_waiter = route53.get_waiter('resource_record_sets_changed')\n",
    "        route53_waiter.wait(\n",
    "            Id=response['ChangeInfo']['Id'][8:]\n",
    "        )\n",
    "        print('record for alb.doug-nicholson.net deleted')"
   ],
   "outputs": [],
   "metadata": {}
  },
  {
   "cell_type": "code",
   "execution_count": null,
   "source": [
    "# Delete the application load balancer\n",
    "try:\n",
    "    response = elbv2.describe_load_balancers(\n",
    "        Names=[\n",
    "            'application-load-balancer'\n",
    "        ]\n",
    "    )\n",
    "except:\n",
    "    pass\n",
    "else:\n",
    "    load_balancer_arn = response['LoadBalancers'][0]['LoadBalancerArn']\n",
    "    response = elbv2.delete_load_balancer(\n",
    "        LoadBalancerArn=load_balancer_arn\n",
    "    )\n",
    "    print('load balancer deleted')\n",
    "balancer_security_group_name='balancer-security-group'"
   ],
   "outputs": [],
   "metadata": {}
  },
  {
   "cell_type": "code",
   "execution_count": null,
   "source": [
    "# Delete the instances\n",
    "instances_security_group_name = 'instances-security-group'\n",
    "instance_iterator = ec2.instances.filter(\n",
    "    Filters=[\n",
    "        {\n",
    "            'Name': 'instance.group-name',\n",
    "            'Values': [\n",
    "                instances_security_group_name\n",
    "            ]\n",
    "        }\n",
    "    ]\n",
    ")\n",
    "for instance in instance_iterator:\n",
    "    response = instance.terminate()\n",
    "for instance in instance_iterator:\n",
    "    instance.wait_until_terminated()\n",
    "print('instances terminated')"
   ],
   "outputs": [],
   "metadata": {}
  },
  {
   "cell_type": "code",
   "execution_count": null,
   "source": [
    "# Delete target group\n",
    "try:\n",
    "    response = elbv2.describe_target_groups(\n",
    "        Names=[\n",
    "            'alb-target-group'\n",
    "        ]\n",
    "    )\n",
    "except:\n",
    "    pass\n",
    "else:\n",
    "    target_group_arn = response['TargetGroups'][0]['TargetGroupArn']\n",
    "    response = elbv2.delete_target_group(\n",
    "        TargetGroupArn=target_group_arn\n",
    "    )\n",
    "    print('target group deleted')"
   ],
   "outputs": [],
   "metadata": {}
  },
  {
   "cell_type": "code",
   "execution_count": null,
   "source": [
    "# Delete the security group, we have to do our own filtering, and\n",
    "for security_group in [instances_security_group_name, balancer_security_group_name]:\n",
    "    security_group_iterator = ec2.security_groups.filter(\n",
    "        Filters=[\n",
    "            {\n",
    "                'Name': 'group-name',\n",
    "                'Values': [\n",
    "                    security_group\n",
    "                ]\n",
    "            }\n",
    "        ]\n",
    "    )\n",
    "    for security_group in security_group_iterator:\n",
    "        response = security_group.delete()\n",
    "print('security groups deleted')\n"
   ],
   "outputs": [],
   "metadata": {}
  },
  {
   "cell_type": "code",
   "execution_count": null,
   "source": [
    "# Success!\n",
    "print('cleanup application load balancer script completed')"
   ],
   "outputs": [],
   "metadata": {}
  }
 ],
 "metadata": {
  "orig_nbformat": 4,
  "language_info": {
   "name": "python",
   "version": "3.9.7",
   "mimetype": "text/x-python",
   "codemirror_mode": {
    "name": "ipython",
    "version": 3
   },
   "pygments_lexer": "ipython3",
   "nbconvert_exporter": "python",
   "file_extension": ".py"
  },
  "kernelspec": {
   "name": "python3",
   "display_name": "Python 3.9.7 64-bit"
  },
  "interpreter": {
   "hash": "aee8b7b246df8f9039afb4144a1f6fd8d2ca17a180786b69acc140d282b71a49"
  }
 },
 "nbformat": 4,
 "nbformat_minor": 2
}