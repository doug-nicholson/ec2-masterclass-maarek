{
 "cells": [
  {
   "cell_type": "code",
   "execution_count": null,
   "source": [
    "import boto3\n",
    "ec2 = boto3.resource('ec2')\n",
    "elb = boto3.client('elb')\n",
    "route53 = boto3.client('route53')"
   ],
   "outputs": [],
   "metadata": {}
  },
  {
   "cell_type": "code",
   "execution_count": null,
   "source": [
    "# add the public ip address to route53 so SSH is easier\n",
    "response = route53.list_hosted_zones_by_name(\n",
    "    DNSName='doug-nicholson.net'\n",
    ")\n",
    "local_zone_id = response['HostedZones'][0]['Id'][12:]\n",
    "dns_name='clb.doug-nicholson.net'\n",
    "response = route53.list_resource_record_sets(\n",
    "    HostedZoneId=local_zone_id,\n",
    "    StartRecordName=dns_name,\n",
    "    StartRecordType='A',\n",
    "    MaxItems='1'\n",
    ")\n",
    "for record_set in response['ResourceRecordSets']:\n",
    "    if record_set['Name'] == dns_name + '.':\n",
    "        response = route53.change_resource_record_sets(\n",
    "            HostedZoneId=local_zone_id,\n",
    "            ChangeBatch={\n",
    "                'Changes': [\n",
    "                    {\n",
    "                        'Action': 'DELETE',\n",
    "                        'ResourceRecordSet': record_set\n",
    "                    }\n",
    "                ]\n",
    "            }\n",
    "        )\n",
    "        # it seems like waiting will be the right thing to do\n",
    "        route53_waiter = route53.get_waiter('resource_record_sets_changed')\n",
    "        route53_waiter.wait(\n",
    "            Id=response['ChangeInfo']['Id'][8:]\n",
    "        )"
   ],
   "outputs": [],
   "metadata": {}
  },
  {
   "cell_type": "code",
   "execution_count": null,
   "source": [
    "# Delete the instances\n",
    "instances_security_group_name = 'instances-security-group'\n",
    "instance_iterator = ec2.instances.filter(\n",
    "    Filters=[\n",
    "        {\n",
    "            'Name': 'instance.group-name',\n",
    "            'Values': [\n",
    "                instances_security_group_name\n",
    "            ]\n",
    "        }\n",
    "    ]\n",
    ")\n",
    "for instance in instance_iterator:\n",
    "    response = instance.terminate()\n",
    "for instance in instance_iterator:\n",
    "    instance.wait_until_terminated()"
   ],
   "outputs": [],
   "metadata": {}
  },
  {
   "cell_type": "code",
   "execution_count": null,
   "source": [
    "# Delete the load balancer\n",
    "load_balancer_name = 'classic-load-balancer'\n",
    "balancer_security_group_name = 'balancer-security-group'\n",
    "response = elb.delete_load_balancer(\n",
    "    LoadBalancerName=load_balancer_name\n",
    ")"
   ],
   "outputs": [],
   "metadata": {}
  },
  {
   "cell_type": "code",
   "execution_count": null,
   "source": [
    "# Delete the security group, we have to do our own filtering, and\n",
    "security_group_iterator = ec2.security_groups.filter(\n",
    "    Filters=[\n",
    "        {\n",
    "            'Name': 'group-name',\n",
    "            'Values': [\n",
    "                instances_security_group_name,\n",
    "                balancer_security_group_name\n",
    "            ]\n",
    "        }\n",
    "    ]\n",
    ")\n",
    "for security_group in security_group_iterator:\n",
    "    response = security_group.delete()\n"
   ],
   "outputs": [],
   "metadata": {}
  },
  {
   "cell_type": "code",
   "execution_count": null,
   "source": [
    "# Success!\n",
    "print('instances terminated')"
   ],
   "outputs": [],
   "metadata": {}
  }
 ],
 "metadata": {
  "orig_nbformat": 4,
  "language_info": {
   "name": "python",
   "version": "3.9.7",
   "mimetype": "text/x-python",
   "codemirror_mode": {
    "name": "ipython",
    "version": 3
   },
   "pygments_lexer": "ipython3",
   "nbconvert_exporter": "python",
   "file_extension": ".py"
  },
  "kernelspec": {
   "name": "python3",
   "display_name": "Python 3.9.7 64-bit"
  },
  "interpreter": {
   "hash": "aee8b7b246df8f9039afb4144a1f6fd8d2ca17a180786b69acc140d282b71a49"
  }
 },
 "nbformat": 4,
 "nbformat_minor": 2
}