{
 "cells": [
  {
   "cell_type": "code",
   "execution_count": null,
   "source": [
    "import boto3\n",
    "ec2 = boto3.resource('ec2')"
   ],
   "outputs": [],
   "metadata": {}
  },
  {
   "cell_type": "code",
   "execution_count": null,
   "source": [
    "# If the security group that was used to create the AMI exists,\n",
    "# delete it.  Most notebooks assume it doesn't exist.\n",
    "security_group_name = 'java-app-security-group'\n",
    "security_group_iterator = ec2.security_groups.filter(\n",
    "    GroupNames=[\n",
    "        security_group_name,\n",
    "    ]\n",
    ")\n",
    "# The iterator behaves poorly if the security group doesn't exist.\n",
    "try:\n",
    "    for security_group in security_group_iterator:\n",
    "        response = security_group.delete()\n",
    "except:\n",
    "    pass"
   ],
   "outputs": [],
   "metadata": {}
  },
  {
   "cell_type": "code",
   "execution_count": null,
   "source": [
    "# We need to get the id of the image we are going to use.\n",
    "# We will assume that it already exists\n",
    "image_iterator = ec2.images.filter(\n",
    "    Filters=[\n",
    "        {\n",
    "            'Name': 'name',\n",
    "            'Values': [\n",
    "                'java-application-ami'\n",
    "            ]\n",
    "        }\n",
    "    ]\n",
    ")\n",
    "# There should be at most one image.  If not, too bad.\n",
    "for image in image_iterator:\n",
    "    snapshot_id = image.block_device_mappings[0]['Ebs']['SnapshotId']\n",
    "    response = image.deregister()\n",
    "    response = ec2.Snapshot(snapshot_id).delete()"
   ],
   "outputs": [],
   "metadata": {}
  },
  {
   "cell_type": "code",
   "execution_count": null,
   "source": [
    "# Success!\n",
    "print('AMI cleaned up')"
   ],
   "outputs": [],
   "metadata": {}
  }
 ],
 "metadata": {
  "orig_nbformat": 4,
  "language_info": {
   "name": "python",
   "version": "3.9.7",
   "mimetype": "text/x-python",
   "codemirror_mode": {
    "name": "ipython",
    "version": 3
   },
   "pygments_lexer": "ipython3",
   "nbconvert_exporter": "python",
   "file_extension": ".py"
  },
  "kernelspec": {
   "name": "python3",
   "display_name": "Python 3.9.7 64-bit"
  },
  "interpreter": {
   "hash": "aee8b7b246df8f9039afb4144a1f6fd8d2ca17a180786b69acc140d282b71a49"
  }
 },
 "nbformat": 4,
 "nbformat_minor": 2
}