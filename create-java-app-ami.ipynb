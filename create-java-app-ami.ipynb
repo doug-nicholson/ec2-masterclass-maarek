{
 "cells": [
  {
   "cell_type": "code",
   "execution_count": null,
   "source": [
    "import boto3\n",
    "ec2 = boto3.resource('ec2')"
   ],
   "outputs": [],
   "metadata": {}
  },
  {
   "cell_type": "code",
   "execution_count": null,
   "source": [
    "# We need a security group for the instance that we are going to\n",
    "# create the AMI from.  We do this to facilitate waiting for the\n",
    "# user data configuration script to finish executing.  We will\n",
    "# assume that the security group doesn't already exist.\n",
    "security_group_name = 'java-app-security-group'\n",
    "security_group = ec2.create_security_group(\n",
    "    GroupName=security_group_name,\n",
    "    Description='Security group for java application instances'\n",
    ")\n",
    "response = security_group.authorize_ingress(\n",
    "    IpPermissions=[\n",
    "        {'FromPort': 4567,\n",
    "        'ToPort': 4567,\n",
    "        'IpProtocol': 'tcp',\n",
    "        'IpRanges': [{'CidrIp': '0.0.0.0/0'}]\n",
    "        }\n",
    "    ]\n",
    ")"
   ],
   "outputs": [],
   "metadata": {}
  },
  {
   "cell_type": "code",
   "execution_count": null,
   "source": [
    "# This is the user data script for configuring the instance.\n",
    "user_data  = \"\"\"#! /bin/bash\n",
    "# upgrade machine\n",
    "sudo yum update -y\n",
    "\n",
    "# install java 8 jdk\n",
    "sudo yum install -y java-1.8.0-openjdk-devel\n",
    "\n",
    "# Download app\n",
    "cd /home/ec2-user\n",
    "wget https://github.com/simplesteph/ec2-masterclass-sampleapp/releases/download/v1.0/ec2-masterclass-sample-app.jar\n",
    "\n",
    "# System D type of Configuration for Linux 2\n",
    "sudo bash -c 'cat << \\EOF > /etc/systemd/system/ec2sampleapp.service\n",
    "[Unit]\n",
    "Description=EC2 Sample App\n",
    "After=network.target\n",
    "\n",
    "[Service]\n",
    "ExecStart=/usr/bin/java -Xmx700m -jar /home/ec2-user/ec2-masterclass-sample-app.jar\n",
    "Restart=on-failure\n",
    "\n",
    "[Install]\n",
    "WantedBy=multi-user.target\n",
    "EOF'\n",
    "\n",
    "# apply across reboots\n",
    "sudo systemctl enable ec2sampleapp.service # enable on boot\n",
    "sudo systemctl start ec2sampleapp.service\n",
    "\"\"\""
   ],
   "outputs": [],
   "metadata": {}
  },
  {
   "cell_type": "code",
   "execution_count": null,
   "source": [
    "# Create an instance using user data\n",
    "instances = ec2.create_instances(\n",
    "    ImageId='ami-00dfe2c7ce89a450b',\n",
    "    InstanceType='t2.micro',\n",
    "    MaxCount=1,\n",
    "    MinCount=1,\n",
    "    UserData=user_data,\n",
    "    SecurityGroups=[\n",
    "        security_group_name\n",
    "    ]\n",
    ")\n",
    "instance = instances[0]\n",
    "instance.wait_until_running()\n",
    "instance.reload()"
   ],
   "outputs": [],
   "metadata": {}
  },
  {
   "cell_type": "code",
   "execution_count": null,
   "source": [
    "# Wait until the user data script completes.  We assume exceptions\n",
    "# occur strictly because the script has not completed.\n",
    "import urllib, time\n",
    "instance_url = 'http://' + instance.public_ip_address + ':4567'\n",
    "while True:\n",
    "    time.sleep(5)\n",
    "    try:\n",
    "        urllib.request.urlopen(instance_url)\n",
    "    except:\n",
    "        continue\n",
    "    else:\n",
    "        break"
   ],
   "outputs": [],
   "metadata": {}
  },
  {
   "cell_type": "code",
   "execution_count": null,
   "source": [
    "# Stop the instance\n",
    "instance.stop()\n",
    "instance.wait_until_stopped()"
   ],
   "outputs": [],
   "metadata": {}
  },
  {
   "cell_type": "code",
   "execution_count": null,
   "source": [
    "# Create a snapshot of the root volume of the instance.\n",
    "block_device_mapping = instance.block_device_mappings[0]\n",
    "snapshot = ec2.create_snapshot(\n",
    "    VolumeId=block_device_mapping['Ebs']['VolumeId']\n",
    ")\n",
    "snapshot.wait_until_completed()"
   ],
   "outputs": [],
   "metadata": {}
  },
  {
   "cell_type": "code",
   "execution_count": null,
   "source": [
    "# Register the image\n",
    "device_name = block_device_mapping['DeviceName']\n",
    "image = ec2.register_image(\n",
    "    BlockDeviceMappings=[\n",
    "        {\n",
    "            'DeviceName': device_name,\n",
    "            'Ebs': {\n",
    "                'DeleteOnTermination': True,\n",
    "                'SnapshotId': snapshot.snapshot_id\n",
    "            }\n",
    "        }\n",
    "    ],\n",
    "    Description='Java Application AMI',\n",
    "    Name='java-application-ami',\n",
    "    RootDeviceName=device_name\n",
    ")\n",
    "image.wait_until_exists()"
   ],
   "outputs": [],
   "metadata": {}
  },
  {
   "cell_type": "code",
   "execution_count": null,
   "source": [
    "# Terminate the instance\n",
    "instance.terminate()\n",
    "instance.wait_until_terminated()"
   ],
   "outputs": [],
   "metadata": {}
  },
  {
   "cell_type": "code",
   "execution_count": null,
   "source": [
    "# The product of this notebook is the AMI and not the security\n",
    "# group.  Because other notebooks will assume the security\n",
    "# group doesn't exist, delete it.\n",
    "response = security_group.delete()"
   ],
   "outputs": [],
   "metadata": {}
  },
  {
   "cell_type": "code",
   "execution_count": null,
   "source": [
    "# Success!\n",
    "print('AMI created')"
   ],
   "outputs": [],
   "metadata": {}
  }
 ],
 "metadata": {
  "orig_nbformat": 4,
  "language_info": {
   "name": "python",
   "version": "3.9.7",
   "mimetype": "text/x-python",
   "codemirror_mode": {
    "name": "ipython",
    "version": 3
   },
   "pygments_lexer": "ipython3",
   "nbconvert_exporter": "python",
   "file_extension": ".py"
  },
  "kernelspec": {
   "name": "python3",
   "display_name": "Python 3.9.7 64-bit"
  },
  "interpreter": {
   "hash": "aee8b7b246df8f9039afb4144a1f6fd8d2ca17a180786b69acc140d282b71a49"
  }
 },
 "nbformat": 4,
 "nbformat_minor": 2
}