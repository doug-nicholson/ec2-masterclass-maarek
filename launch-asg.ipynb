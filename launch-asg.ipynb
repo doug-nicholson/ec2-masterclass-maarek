{
 "cells": [
  {
   "cell_type": "code",
   "execution_count": 80,
   "source": [
    "import boto3\n",
    "\n",
    "# get clients and resources\n",
    "ec2 = boto3.resource('ec2')\n",
    "elbv2 = boto3.client('elbv2')\n",
    "asg = boto3.client('autoscaling')\n",
    "route53 = boto3.client('route53')\n",
    "\n",
    "# Let's keep all the names in one place\n",
    "load_balancer_name = 'application-load-balancer'\n",
    "instances_ami_name = 'java-application-ami'\n",
    "instances_security_group_name = 'instances-security-group'\n",
    "balancer_security_group_name = 'balancer-security-group'\n",
    "launch_configuration_name = 'asg-launch-configuration'\n",
    "target_group_name = 'asg-target-group'\n",
    "auto_scaling_group_name = 'auto-scaling-group'\n",
    "auto_scaling_policy_name = 'auto-scaling-policy'\n",
    "domain_name = 'doug-nicholson.net'\n",
    "balancer_host_name = 'asg.' + domain_name\n",
    "\n",
    "# Some constants useful for auto-scaling\n",
    "detailed_monitoring = False\n",
    "minimum_instance_count = 2\n",
    "desired_instance_count = 3\n",
    "maximum_instance_count = 6"
   ],
   "outputs": [],
   "metadata": {}
  },
  {
   "cell_type": "code",
   "execution_count": 83,
   "source": [
    "# We need to get the id of the image we are going to use.\n",
    "# We will assume that it already exists.\n",
    "image_iterator = ec2.images.filter(\n",
    "    Filters=[\n",
    "        {\n",
    "            'Name': 'name',\n",
    "            'Values': [\n",
    "                instances_ami_name\n",
    "            ]\n",
    "        }\n",
    "    ]\n",
    ")\n",
    "for image in image_iterator:\n",
    "    if image.name == instances_ami_name:\n",
    "        image_id = image.image_id\n",
    "        break\n",
    "print('AMI found')"
   ],
   "outputs": [
    {
     "output_type": "stream",
     "name": "stdout",
     "text": [
      "AMI found\n"
     ]
    }
   ],
   "metadata": {}
  },
  {
   "cell_type": "code",
   "execution_count": 84,
   "source": [
    "# Create the security group for the load balancer\n",
    "balancer_security_group = ec2.create_security_group(\n",
    "    GroupName=balancer_security_group_name,\n",
    "    Description='Security group for the load balancer'\n",
    ")\n",
    "response = balancer_security_group.authorize_ingress(\n",
    "    IpPermissions=[\n",
    "        {\n",
    "            'FromPort': 80,\n",
    "            'ToPort': 80,\n",
    "            'IpProtocol': 'tcp',\n",
    "            'IpRanges': [{'CidrIp': '0.0.0.0/0'}]\n",
    "        }\n",
    "    ]\n",
    ")\n",
    "print('balancer security group created')"
   ],
   "outputs": [
    {
     "output_type": "stream",
     "name": "stdout",
     "text": [
      "balancer security group created\n"
     ]
    }
   ],
   "metadata": {}
  },
  {
   "cell_type": "code",
   "execution_count": 85,
   "source": [
    "# Create the security group for the instances.  Leave the security\n",
    "# group open from anywhere for testing.\n",
    "instances_security_group = ec2.create_security_group(\n",
    "    GroupName=instances_security_group_name,\n",
    "    Description='Security group for the instances'\n",
    ")\n",
    "response = instances_security_group.authorize_ingress(\n",
    "    IpPermissions=[\n",
    "        {\n",
    "            'FromPort': 4567,\n",
    "            'ToPort': 4567,\n",
    "            'IpProtocol': 'tcp',\n",
    "            'IpRanges': [{'CidrIp': '0.0.0.0/0'}],\n",
    "            'UserIdGroupPairs': [\n",
    "                {\n",
    "                    'GroupId': balancer_security_group.group_id,\n",
    "                    'UserId': balancer_security_group.owner_id\n",
    "                }\n",
    "            ]\n",
    "        }\n",
    "    ]\n",
    ")\n",
    "print('instances security group created')"
   ],
   "outputs": [
    {
     "output_type": "stream",
     "name": "stdout",
     "text": [
      "instances security group created\n"
     ]
    }
   ],
   "metadata": {}
  },
  {
   "cell_type": "code",
   "execution_count": 86,
   "source": [
    "# Create a launch configuration\n",
    "response = asg.create_launch_configuration(\n",
    "    LaunchConfigurationName=launch_configuration_name,\n",
    "    ImageId=image_id,\n",
    "    SecurityGroups=[\n",
    "        instances_security_group_name\n",
    "    ],\n",
    "    InstanceType='t2.micro',\n",
    "    InstanceMonitoring={\n",
    "        'Enabled': detailed_monitoring\n",
    "    }\n",
    ")"
   ],
   "outputs": [],
   "metadata": {}
  },
  {
   "cell_type": "code",
   "execution_count": 87,
   "source": [
    "# Create the target group for the application load balancer\n",
    "response = elbv2.create_target_group(\n",
    "    Name=target_group_name,\n",
    "    Protocol='HTTP',\n",
    "    Port=4567,\n",
    "    VpcId=balancer_security_group.vpc_id,\n",
    "    HealthCheckProtocol='HTTP',\n",
    "    HealthCheckPort='4567',\n",
    "    HealthCheckPath='/health',\n",
    "    HealthCheckIntervalSeconds=10,\n",
    "    HealthCheckTimeoutSeconds=5,\n",
    "    HealthyThresholdCount=5,\n",
    "    UnhealthyThresholdCount=2,\n",
    "    TargetType='instance'\n",
    ")\n",
    "for target_group in response['TargetGroups']:\n",
    "    if target_group['TargetGroupName'] == target_group_name:\n",
    "        target_group_arn = target_group['TargetGroupArn']\n",
    "        break\n",
    "print('target group created')"
   ],
   "outputs": [
    {
     "output_type": "stream",
     "name": "stdout",
     "text": [
      "target group created\n"
     ]
    }
   ],
   "metadata": {}
  },
  {
   "cell_type": "code",
   "execution_count": 88,
   "source": [
    "# Create a list of subnet ids for the load balancer\n",
    "subnet_iterator = ec2.subnets.filter(\n",
    "    Filters=[\n",
    "        {\n",
    "            'Name': 'vpc-id',\n",
    "            'Values': [\n",
    "                balancer_security_group.vpc_id\n",
    "            ]\n",
    "        }\n",
    "    ]\n",
    ")\n",
    "subnet_ids = [subnet.subnet_id for subnet in subnet_iterator]\n",
    "availability_zones = [subnet.availability_zone for subnet in subnet_iterator]"
   ],
   "outputs": [],
   "metadata": {}
  },
  {
   "cell_type": "code",
   "execution_count": 89,
   "source": [
    "# Create a load balancer\n",
    "response = elbv2.create_load_balancer(\n",
    "    Name=load_balancer_name,\n",
    "    Subnets=subnet_ids,\n",
    "    SecurityGroups=[\n",
    "        balancer_security_group.group_id\n",
    "    ]\n",
    ")\n",
    "for load_balancer in response['LoadBalancers']:\n",
    "    if load_balancer['LoadBalancerName'] == load_balancer_name:\n",
    "        balancer_dns_name = load_balancer['DNSName']\n",
    "        balancer_zone_id = load_balancer['CanonicalHostedZoneId']\n",
    "        load_balancer_arn = load_balancer['LoadBalancerArn']\n",
    "        break\n",
    "print('load balancer created')"
   ],
   "outputs": [
    {
     "output_type": "stream",
     "name": "stdout",
     "text": [
      "load balancer created\n"
     ]
    }
   ],
   "metadata": {}
  },
  {
   "cell_type": "code",
   "execution_count": 90,
   "source": [
    "# Create a listener\n",
    "response = elbv2.create_listener(\n",
    "    LoadBalancerArn=load_balancer_arn,\n",
    "    Protocol='HTTP',\n",
    "    Port=80,\n",
    "    DefaultActions=[\n",
    "        {\n",
    "            'Type': 'forward',\n",
    "            'TargetGroupArn': target_group_arn\n",
    "        }\n",
    "    ]\n",
    ")\n",
    "print('listener created')"
   ],
   "outputs": [
    {
     "output_type": "stream",
     "name": "stdout",
     "text": [
      "listener created\n"
     ]
    }
   ],
   "metadata": {}
  },
  {
   "cell_type": "code",
   "execution_count": 91,
   "source": [
    "# Now we can create the auto-scaling group\n",
    "response = asg.create_auto_scaling_group(\n",
    "    AutoScalingGroupName=auto_scaling_group_name,\n",
    "    LaunchConfigurationName=launch_configuration_name,\n",
    "    MinSize=minimum_instance_count,\n",
    "    MaxSize=maximum_instance_count,\n",
    "    DesiredCapacity=desired_instance_count,\n",
    "    AvailabilityZones=availability_zones,\n",
    "    TargetGroupARNs=[\n",
    "        target_group_arn\n",
    "    ],\n",
    "    HealthCheckType='ELB',\n",
    "    HealthCheckGracePeriod=180\n",
    ")"
   ],
   "outputs": [],
   "metadata": {}
  },
  {
   "cell_type": "code",
   "execution_count": 92,
   "source": [
    "# For some reason accessing the application using the balancer\n",
    "# host name while the balancer is still provisioning will cause\n",
    "# problems so wait until the balancer is available.\n",
    "waiter = elbv2.get_waiter('load_balancer_available')\n",
    "waiter.wait(\n",
    "    LoadBalancerArns=[\n",
    "        load_balancer_arn\n",
    "    ]\n",
    ")"
   ],
   "outputs": [],
   "metadata": {}
  },
  {
   "cell_type": "code",
   "execution_count": 93,
   "source": [
    "# add the public ip address to route53 so SSH is easier\n",
    "response = route53.list_hosted_zones_by_name(\n",
    "    DNSName=domain_name\n",
    ")\n",
    "local_zone_id = response['HostedZones'][0]['Id'][12:]\n",
    "response = route53.change_resource_record_sets(\n",
    "    HostedZoneId=local_zone_id,\n",
    "    ChangeBatch={\n",
    "        'Changes': [\n",
    "            {\n",
    "                'Action': 'CREATE',\n",
    "                'ResourceRecordSet': {\n",
    "                    'Name': balancer_host_name,\n",
    "                    'Type': 'A',\n",
    "                    'AliasTarget': {\n",
    "                        'HostedZoneId': balancer_zone_id,\n",
    "                        'DNSName': balancer_dns_name,\n",
    "                        'EvaluateTargetHealth': False\n",
    "                    }\n",
    "                }\n",
    "            }\n",
    "        ]\n",
    "    }\n",
    ")\n",
    "\n",
    "# it seems like waiting will be the right thing to do\n",
    "route53_waiter = route53.get_waiter('resource_record_sets_changed')\n",
    "route53_waiter.wait(\n",
    "    Id=response['ChangeInfo']['Id'][8:]\n",
    ")\n",
    "print('record for ' + balancer_host_name + ' created')"
   ],
   "outputs": [
    {
     "output_type": "stream",
     "name": "stdout",
     "text": [
      "record for asg.doug-nicholson.net created\n"
     ]
    }
   ],
   "metadata": {}
  },
  {
   "cell_type": "code",
   "execution_count": 94,
   "source": [
    "# Success!\n",
    "print('launch auto-scaling group script completed')"
   ],
   "outputs": [
    {
     "output_type": "stream",
     "name": "stdout",
     "text": [
      "launch auto-scaling group script completed\n"
     ]
    }
   ],
   "metadata": {}
  }
 ],
 "metadata": {
  "orig_nbformat": 4,
  "language_info": {
   "name": "python",
   "version": "3.9.7",
   "mimetype": "text/x-python",
   "codemirror_mode": {
    "name": "ipython",
    "version": 3
   },
   "pygments_lexer": "ipython3",
   "nbconvert_exporter": "python",
   "file_extension": ".py"
  },
  "kernelspec": {
   "name": "python3",
   "display_name": "Python 3.9.7 64-bit"
  },
  "interpreter": {
   "hash": "aee8b7b246df8f9039afb4144a1f6fd8d2ca17a180786b69acc140d282b71a49"
  }
 },
 "nbformat": 4,
 "nbformat_minor": 2
}