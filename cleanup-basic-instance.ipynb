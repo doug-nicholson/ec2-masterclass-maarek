{
 "cells": [
  {
   "cell_type": "code",
   "execution_count": 16,
   "source": [
    "import boto3, os"
   ],
   "outputs": [],
   "metadata": {}
  },
  {
   "cell_type": "code",
   "execution_count": 17,
   "source": [
    "ec2 = boto3.resource('ec2')\n",
    "route53 = boto3.client('route53')"
   ],
   "outputs": [],
   "metadata": {}
  },
  {
   "cell_type": "code",
   "execution_count": 23,
   "source": [
    "# Delete the DNS record for the basic instance\n",
    "dns_name = 'doug-nicholson.net'\n",
    "record_name = 'basic.' + dns_name\n",
    "response = route53.list_hosted_zones_by_name(\n",
    "    DNSName=dns_name\n",
    ")\n",
    "zone_id = response['HostedZones'][0]['Id'][12:]\n",
    "response = route53.list_resource_record_sets(\n",
    "    HostedZoneId=zone_id,\n",
    "    StartRecordName=record_name,\n",
    "    MaxItems='1'\n",
    ")\n",
    "resource_record_sets = response['ResourceRecordSets']\n",
    "if len(resource_record_sets) > 0:\n",
    "    resource_record_set = resource_record_sets[0]\n",
    "    if resource_record_set['Name'] == record_name + '.':\n",
    "        route53_waiter = route53.get_waiter('resource_record_sets_changed')\n",
    "        response = route53.change_resource_record_sets(\n",
    "            HostedZoneId=zone_id,\n",
    "            ChangeBatch={\n",
    "                'Changes': [\n",
    "                    {\n",
    "                        'Action': 'DELETE',\n",
    "                        'ResourceRecordSet': resource_record_set\n",
    "                    }\n",
    "                ]\n",
    "            }\n",
    "        )\n",
    "        route53_waiter.wait(\n",
    "            Id=response['ChangeInfo']['Id'][8:]\n",
    "        )"
   ],
   "outputs": [],
   "metadata": {}
  },
  {
   "cell_type": "code",
   "execution_count": null,
   "source": [
    "# Remove the entry for this host in the known_hosts file\n",
    "with open('/Users/dougjam/.ssh/known_hosts', 'r') as f:\n",
    "    lines = [line for line in f]\n",
    "    f.close()\n",
    "with open('/Users/dougjam/.ssh/known_hosts', 'w') as f:\n",
    "    for line in lines:\n",
    "        if line.find('basic.doug-nicholson.net') == -1:\n",
    "            f.write(line)\n",
    "    f.close()"
   ],
   "outputs": [],
   "metadata": {}
  },
  {
   "cell_type": "code",
   "execution_count": 28,
   "source": [
    "# Delete any instances that were started\n",
    "key_pair_name = 'basic-launch-key-pair'\n",
    "instance_iterator = ec2.instances.filter(\n",
    "    Filters=[\n",
    "        {\n",
    "            'Name': 'key-name',\n",
    "            'Values': [\n",
    "                key_pair_name\n",
    "            ]\n",
    "        }\n",
    "    ]\n",
    ")\n",
    "try:\n",
    "    instance_list = list(instance_iterator)\n",
    "except:\n",
    "    pass\n",
    "else:\n",
    "    for instance in instance_list:\n",
    "        instance.terminate()\n",
    "    for instance in instance_list:\n",
    "        instance.wait_until_terminated()"
   ],
   "outputs": [],
   "metadata": {}
  },
  {
   "cell_type": "code",
   "execution_count": 29,
   "source": [
    "# Delete the key pair and the key pair file if they exist\n",
    "key_pair_info_iterator = ec2.key_pairs.filter(\n",
    "    KeyNames=[\n",
    "        key_pair_name\n",
    "    ]\n",
    ")\n",
    "try:\n",
    "    # If this causes an exception, nothing needs to be done\n",
    "    key_pair_info_list = list(key_pair_info_iterator)\n",
    "except:\n",
    "    pass\n",
    "else:\n",
    "    key_pair_info_list[0].delete()\n",
    "key_pair_file_name = '/Users/dougjam/.ssh/' + key_pair_name + '.pem'\n",
    "if os.path.isfile(key_pair_file_name):\n",
    "    os.remove(key_pair_file_name)"
   ],
   "outputs": [],
   "metadata": {}
  }
 ],
 "metadata": {
  "orig_nbformat": 4,
  "language_info": {
   "name": "python",
   "version": "3.9.7",
   "mimetype": "text/x-python",
   "codemirror_mode": {
    "name": "ipython",
    "version": 3
   },
   "pygments_lexer": "ipython3",
   "nbconvert_exporter": "python",
   "file_extension": ".py"
  },
  "kernelspec": {
   "name": "python3",
   "display_name": "Python 3.9.6 64-bit"
  },
  "interpreter": {
   "hash": "aee8b7b246df8f9039afb4144a1f6fd8d2ca17a180786b69acc140d282b71a49"
  }
 },
 "nbformat": 4,
 "nbformat_minor": 2
}