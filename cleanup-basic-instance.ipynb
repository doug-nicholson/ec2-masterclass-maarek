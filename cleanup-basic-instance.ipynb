{
 "cells": [
  {
   "cell_type": "code",
   "execution_count": null,
   "metadata": {},
   "outputs": [],
   "source": [
    "import boto3, os"
   ]
  },
  {
   "cell_type": "code",
   "execution_count": null,
   "metadata": {},
   "outputs": [],
   "source": [
    "ec2 = boto3.resource('ec2')\n",
    "route53 = boto3.client('route53')"
   ]
  },
  {
   "cell_type": "code",
   "execution_count": null,
   "metadata": {},
   "outputs": [],
   "source": [
    "default_ip_security_group_name = 'default-using-my-ip'\n",
    "security_group_name = 'master-class-security-group'\n",
    "security_group_description = 'security group for ec2 masterclass'\n",
    "\n",
    "ssh_directory_name = '/Users/dougjam/.ssh'\n",
    "key_pair_name = 'master-class-key-pair'\n",
    "private_key_file_name = f'{ssh_directory_name}/{key_pair_name}_rsa'\n",
    "public_key_file_name = f'{private_key_file_name}.pub'\n",
    "ssh_config_file_name = f'{ssh_directory_name}/config'\n",
    "ssh_known_hosts_file_name = f'{ssh_directory_name}/known_hosts'\n",
    "\n",
    "domain_name = 'doug-nicholson.net'\n",
    "subdomain_name = 'master-class'\n",
    "full_host_name = f'{subdomain_name}.{domain_name}'\n",
    "\n",
    "parameter_path = '/aws/service/ami-amazon-linux-latest/'\n",
    "parameter_name = 'amzn2-ami-hvm-x86_64-gp2'"
   ]
  },
  {
   "cell_type": "code",
   "execution_count": null,
   "metadata": {},
   "outputs": [],
   "source": [
    "# Delete the DNS record for the basic instance\n",
    "response = route53.list_hosted_zones_by_name(\n",
    "    DNSName=domain_name\n",
    ")\n",
    "zone_id = response['HostedZones'][0]['Id'][12:]\n",
    "response = route53.list_resource_record_sets(\n",
    "    HostedZoneId=zone_id,\n",
    "    StartRecordName=full_host_name,\n",
    "    MaxItems='1'\n",
    ")\n",
    "route53_waiter = route53.get_waiter('resource_record_sets_changed')\n",
    "for resource_record_set in response['ResourceRecordSets']:\n",
    "    if resource_record_set['Name'] == full_host_name + '.':\n",
    "        response = route53.change_resource_record_sets(\n",
    "            HostedZoneId=zone_id,\n",
    "            ChangeBatch={\n",
    "                'Changes': [\n",
    "                    {\n",
    "                        'Action': 'DELETE',\n",
    "                        'ResourceRecordSet': resource_record_set\n",
    "                    }\n",
    "                ]\n",
    "            }\n",
    "        )\n",
    "        route53_waiter.wait(\n",
    "            Id=response['ChangeInfo']['Id'][8:]\n",
    "        )"
   ]
  },
  {
   "cell_type": "code",
   "execution_count": null,
   "metadata": {},
   "outputs": [],
   "source": [
    "# Delete any instances that were started\n",
    "instance_iterator = ec2.instances.filter(\n",
    "    Filters=[\n",
    "        {\n",
    "            'Name': 'key-name',\n",
    "            'Values': [\n",
    "                key_pair_name\n",
    "            ]\n",
    "        }\n",
    "    ]\n",
    ")\n",
    "for instance in instance_iterator:\n",
    "    instance.terminate()\n",
    "for instance in instance_iterator:\n",
    "    instance.wait_until_terminated()"
   ]
  },
  {
   "cell_type": "code",
   "execution_count": null,
   "metadata": {},
   "outputs": [],
   "source": [
    "# Delete the key pair for the class from AWS.\n",
    "key_pair_info_iterator = ec2.key_pairs.filter(\n",
    "    KeyNames=[\n",
    "        key_pair_name\n",
    "    ]\n",
    ")\n",
    "try:\n",
    "    for key_pair_info in key_pair_info_iterator:\n",
    "        key_pair_info.delete()\n",
    "except:\n",
    "    pass"
   ]
  },
  {
   "cell_type": "code",
   "execution_count": null,
   "metadata": {},
   "outputs": [],
   "source": [
    "# Remove the key files.\n",
    "for path in [private_key_file_name, public_key_file_name]:\n",
    "    if os.path.isfile(path):\n",
    "        os.remove(path)"
   ]
  },
  {
   "cell_type": "code",
   "execution_count": null,
   "metadata": {},
   "outputs": [],
   "source": [
    "# Remove the host block for the class from the ssh\n",
    "# config file if it is in there.\n",
    "ssh_config_lines = []\n",
    "skip_flag = False\n",
    "if os.path.isfile(ssh_config_file_name):\n",
    "    # Read the config file and remove the host block.\n",
    "    with open(ssh_config_file_name, 'r') as f:\n",
    "        for line in f:\n",
    "            spaces_stripped_line = line.lstrip()\n",
    "            lower_cased_line = spaces_stripped_line.lower()\n",
    "            if lower_cased_line[0:4] == 'host':\n",
    "                if spaces_stripped_line[4:].find(full_host_name) != -1:\n",
    "                    skip_flag = True\n",
    "                    continue\n",
    "                skip_flag = False\n",
    "            if not skip_flag:\n",
    "                ssh_config_lines.append(line)\n",
    "    # Let's remove trailing blank lines.\n",
    "    for index in range(len(ssh_config_lines), 0, -1):\n",
    "        if ssh_config_lines[index - 1].replace('\\n', ''):\n",
    "            break\n",
    "        else:\n",
    "            del(ssh_config_lines[index - 1])\n",
    "    # Write the lines back to the file.\n",
    "    with open(ssh_config_file_name, 'w') as f:\n",
    "        f.writelines(ssh_config_lines)"
   ]
  },
  {
   "cell_type": "code",
   "execution_count": null,
   "metadata": {},
   "outputs": [],
   "source": [
    "# Remove the entry for this host in the known_hosts file\n",
    "if os.path.isfile(ssh_known_hosts_file_name):\n",
    "    with open(ssh_known_hosts_file_name, 'r') as f:\n",
    "        lines = [line for line in f if line.find(full_host_name) == -1]\n",
    "    with open(ssh_known_hosts_file_name, 'w') as f:\n",
    "        f.writelines(lines)"
   ]
  },
  {
   "cell_type": "code",
   "execution_count": null,
   "metadata": {},
   "outputs": [],
   "source": [
    "# Delete the security group.\n",
    "security_group_iterator = ec2.security_groups.filter(\n",
    "    Filters=[\n",
    "        {\n",
    "            'Name': 'group-name',\n",
    "            'Values': [\n",
    "                security_group_name\n",
    "            ]\n",
    "        }\n",
    "    ]\n",
    ")\n",
    "for security_group in security_group_iterator:\n",
    "    security_group.delete()"
   ]
  },
  {
   "cell_type": "code",
   "execution_count": null,
   "metadata": {},
   "outputs": [],
   "source": [
    "print('all cleaned up')"
   ]
  }
 ],
 "metadata": {
  "interpreter": {
   "hash": "aee8b7b246df8f9039afb4144a1f6fd8d2ca17a180786b69acc140d282b71a49"
  },
  "kernelspec": {
   "display_name": "Python 3.9.6 64-bit",
   "name": "python3"
  },
  "language_info": {
   "codemirror_mode": {
    "name": "ipython",
    "version": 3
   },
   "file_extension": ".py",
   "mimetype": "text/x-python",
   "name": "python",
   "nbconvert_exporter": "python",
   "pygments_lexer": "ipython3",
   "version": "3.9.8"
  },
  "orig_nbformat": 4
 },
 "nbformat": 4,
 "nbformat_minor": 2
}
