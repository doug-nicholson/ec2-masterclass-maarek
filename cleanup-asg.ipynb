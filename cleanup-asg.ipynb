{
 "cells": [
  {
   "cell_type": "code",
   "execution_count": null,
   "source": [
    "import boto3\n",
    "ec2 = boto3.resource('ec2')\n",
    "elbv2 = boto3.client('elbv2')\n",
    "asg = boto3.client('autoscaling')\n",
    "route53 = boto3.client('route53')"
   ],
   "outputs": [],
   "metadata": {}
  },
  {
   "cell_type": "code",
   "execution_count": null,
   "source": [
    "# Let's keep all the names in one place\n",
    "load_balancer_name = 'application-load-balancer'\n",
    "instances_ami_name = 'java-application-ami'\n",
    "instances_security_group_name = 'instances-security-group'\n",
    "balancer_security_group_name = 'balancer-security-group'\n",
    "launch_configuration_name = 'asg-launch-configuration'\n",
    "target_group_name = 'asg-target-group'\n",
    "auto_scaling_group_name = 'auto-scaling-group'\n",
    "domain_name = 'doug-nicholson.net'\n",
    "balancer_host_name = 'asg.' + domain_name"
   ],
   "outputs": [],
   "metadata": {}
  },
  {
   "cell_type": "code",
   "execution_count": null,
   "source": [
    "# add the public ip address to route53 so SSH is easier\n",
    "response = route53.list_hosted_zones_by_name(\n",
    "    DNSName=domain_name\n",
    ")\n",
    "local_zone_id = response['HostedZones'][0]['Id'][12:]\n",
    "response = route53.list_resource_record_sets(\n",
    "    HostedZoneId=local_zone_id,\n",
    "    StartRecordName=balancer_host_name,\n",
    "    StartRecordType='A',\n",
    "    MaxItems='1'\n",
    ")\n",
    "for record_set in response['ResourceRecordSets']:\n",
    "    if record_set['Name'] == balancer_host_name + '.':\n",
    "        response = route53.change_resource_record_sets(\n",
    "            HostedZoneId=local_zone_id,\n",
    "            ChangeBatch={\n",
    "                'Changes': [\n",
    "                    {\n",
    "                        'Action': 'DELETE',\n",
    "                        'ResourceRecordSet': record_set\n",
    "                    }\n",
    "                ]\n",
    "            }\n",
    "        )\n",
    "        # it seems like waiting will be the right thing to do\n",
    "        route53_waiter = route53.get_waiter('resource_record_sets_changed')\n",
    "        route53_waiter.wait(\n",
    "            Id=response['ChangeInfo']['Id'][8:]\n",
    "        )\n",
    "        print('record for ' + balancer_host_name + ' deleted')"
   ],
   "outputs": [],
   "metadata": {}
  },
  {
   "cell_type": "code",
   "execution_count": null,
   "source": [
    "# Delete the auto-scaling group by force because updating the auto-scaling\n",
    "# group to cause the termination of the instances takes a long time.\n",
    "try:\n",
    "    response = asg.describe_auto_scaling_groups(\n",
    "        AutoScalingGroupNames=[\n",
    "            auto_scaling_group_name\n",
    "        ]\n",
    "    )\n",
    "except:\n",
    "    pass\n",
    "else:\n",
    "    response = asg.delete_auto_scaling_group(\n",
    "        AutoScalingGroupName=auto_scaling_group_name,\n",
    "        ForceDelete=True\n",
    "    )"
   ],
   "outputs": [],
   "metadata": {}
  },
  {
   "cell_type": "code",
   "execution_count": null,
   "source": [
    "# Delete the application load balancer\n",
    "try:\n",
    "    response = elbv2.describe_load_balancers(\n",
    "        Names=[\n",
    "            load_balancer_name\n",
    "        ]\n",
    "    )\n",
    "except:\n",
    "    pass\n",
    "else:\n",
    "    for load_balancer in response['LoadBalancers']:\n",
    "        load_balancer_arn = load_balancer['LoadBalancerArn']\n",
    "        response = elbv2.delete_load_balancer(\n",
    "            LoadBalancerArn=load_balancer_arn\n",
    "        )\n",
    "        print('load balancer deleted')"
   ],
   "outputs": [],
   "metadata": {}
  },
  {
   "cell_type": "code",
   "execution_count": null,
   "source": [
    "# Wait until the instances terminate\n",
    "instance_iterator = ec2.instances.filter(\n",
    "    Filters=[\n",
    "        {\n",
    "            'Name': 'instance.group-name',\n",
    "            'Values': [\n",
    "                instances_security_group_name\n",
    "            ]\n",
    "        }\n",
    "    ]\n",
    ")\n",
    "for instance in instance_iterator:\n",
    "    instance.terminate()\n",
    "for instance in instance_iterator:\n",
    "    instance.wait_until_terminated()\n",
    "print('instances terminated')"
   ],
   "outputs": [],
   "metadata": {}
  },
  {
   "cell_type": "code",
   "execution_count": null,
   "source": [
    "# Delete target group\n",
    "try:\n",
    "    response = elbv2.describe_target_groups(\n",
    "        Names=[\n",
    "            target_group_name\n",
    "        ]\n",
    "    )\n",
    "except:\n",
    "    pass\n",
    "else:\n",
    "    target_group_arn = response['TargetGroups'][0]['TargetGroupArn']\n",
    "    response = elbv2.delete_target_group(\n",
    "        TargetGroupArn=target_group_arn\n",
    "    )\n",
    "    print('target group deleted')"
   ],
   "outputs": [],
   "metadata": {}
  },
  {
   "cell_type": "code",
   "execution_count": null,
   "source": [
    "# Delete the launch configuration\n",
    "response = asg.describe_launch_configurations(\n",
    "    LaunchConfigurationNames=[\n",
    "        launch_configuration_name\n",
    "    ]\n",
    ")\n",
    "for launch_configuration in response['LaunchConfigurations']:\n",
    "    if launch_configuration['LaunchConfigurationName'] == launch_configuration_name:\n",
    "        response = asg.delete_launch_configuration(\n",
    "            LaunchConfigurationName=launch_configuration_name\n",
    "        )"
   ],
   "outputs": [],
   "metadata": {}
  },
  {
   "cell_type": "code",
   "execution_count": null,
   "source": [
    "# Delete the security groups\n",
    "security_group_names = [instances_security_group_name, balancer_security_group_name]\n",
    "security_group_iterator = ec2.security_groups.filter(\n",
    "    Filters=[\n",
    "        {\n",
    "            'Name': 'group-name',\n",
    "            'Values': security_group_names\n",
    "        }\n",
    "    ]\n",
    ")\n",
    "# We can't delete security groups that reference other security\n",
    "# group so revoke the ingress rules of all security groups first.\n",
    "for security_group in security_group_iterator:\n",
    "    response = security_group.revoke_ingress(\n",
    "        IpPermissions=security_group.ip_permissions\n",
    "    )\n",
    "for security_group in security_group_iterator:\n",
    "    security_group.reload()\n",
    "    response = security_group.delete()\n",
    "print('security groups deleted')\n"
   ],
   "outputs": [],
   "metadata": {}
  },
  {
   "cell_type": "code",
   "execution_count": null,
   "source": [
    "# Success!\n",
    "print('cleanup auto-scaling group script completed')"
   ],
   "outputs": [],
   "metadata": {}
  }
 ],
 "metadata": {
  "orig_nbformat": 4,
  "language_info": {
   "name": "python",
   "version": "3.9.7",
   "mimetype": "text/x-python",
   "codemirror_mode": {
    "name": "ipython",
    "version": 3
   },
   "pygments_lexer": "ipython3",
   "nbconvert_exporter": "python",
   "file_extension": ".py"
  },
  "kernelspec": {
   "name": "python3",
   "display_name": "Python 3.9.7 64-bit"
  },
  "interpreter": {
   "hash": "aee8b7b246df8f9039afb4144a1f6fd8d2ca17a180786b69acc140d282b71a49"
  }
 },
 "nbformat": 4,
 "nbformat_minor": 2
}